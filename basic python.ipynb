{
  "nbformat": 4,
  "nbformat_minor": 0,
  "metadata": {
    "colab": {
      "provenance": []
    },
    "kernelspec": {
      "name": "python3",
      "display_name": "Python 3"
    },
    "language_info": {
      "name": "python"
    }
  },
  "cells": [
    {
      "cell_type": "code",
      "execution_count": 4,
      "metadata": {
        "colab": {
          "base_uri": "https://localhost:8080/"
        },
        "id": "7iu9Ynxvy97T",
        "outputId": "08c03123-abb2-460b-d754-0bec7dd68d18"
      },
      "outputs": [
        {
          "output_type": "stream",
          "name": "stdout",
          "text": [
            "['i', 'm', 'u', 'o', 's']\n"
          ]
        }
      ],
      "source": [
        "s=\"soumi\"\n",
        "sl=list(s)\n",
        "print(str((sl[::-1])))"
      ]
    },
    {
      "cell_type": "code",
      "source": [
        "def greetings():\n",
        "  print(\"Welcome to python tutorial by soumi\")\n",
        "greetings()"
      ],
      "metadata": {
        "colab": {
          "base_uri": "https://localhost:8080/"
        },
        "id": "TNSOtkqlzEI_",
        "outputId": "1e5e550e-75da-4e33-94b8-2efea3b2e489"
      },
      "execution_count": 5,
      "outputs": [
        {
          "output_type": "stream",
          "name": "stdout",
          "text": [
            "Welcome to python tutorial by soumi\n"
          ]
        }
      ]
    },
    {
      "cell_type": "code",
      "source": [
        "def add2numbers(a,b):\n",
        "  result = a+b\n",
        "  print(\"The sum is\", result)\n",
        "add2numbers(a=2,b=8)"
      ],
      "metadata": {
        "colab": {
          "base_uri": "https://localhost:8080/"
        },
        "id": "y7mc1_TnzyOG",
        "outputId": "2d10911e-623d-40e7-8882-1a4bf96bbd49"
      },
      "execution_count": 8,
      "outputs": [
        {
          "output_type": "stream",
          "name": "stdout",
          "text": [
            "The sum is 10\n"
          ]
        }
      ]
    },
    {
      "cell_type": "code",
      "source": [
        "def add3numbers(a,b,c):\n",
        "  result = a+b+c\n",
        "  print(\"The sum is \", result)\n",
        "add3numbers(1,4,2)"
      ],
      "metadata": {
        "colab": {
          "base_uri": "https://localhost:8080/"
        },
        "id": "Ao_RNPoEz9gd",
        "outputId": "79a880e3-9771-4d88-eef9-ae1e8b947209"
      },
      "execution_count": 12,
      "outputs": [
        {
          "output_type": "stream",
          "name": "stdout",
          "text": [
            "The sum is  7\n"
          ]
        }
      ]
    },
    {
      "cell_type": "code",
      "source": [
        "name=\"soumi\"\n",
        "age=23\n",
        "\n",
        "print(\"My name is {0} and I'm {1}\".format(name, age))"
      ],
      "metadata": {
        "colab": {
          "base_uri": "https://localhost:8080/"
        },
        "id": "ATbQHDzf0ynp",
        "outputId": "9b123afd-f998-489e-9d5e-f61cc4047ab4"
      },
      "execution_count": 14,
      "outputs": [
        {
          "output_type": "stream",
          "name": "stdout",
          "text": [
            "My name is soumi and I'm 23\n"
          ]
        }
      ]
    },
    {
      "cell_type": "code",
      "source": [
        "name2= \"soumi\"\n",
        "print(name2[::-1])"
      ],
      "metadata": {
        "colab": {
          "base_uri": "https://localhost:8080/"
        },
        "id": "l6ri13e52gZG",
        "outputId": "efd8052a-ecee-4fd0-9b95-310a250b0378"
      },
      "execution_count": 15,
      "outputs": [
        {
          "output_type": "stream",
          "name": "stdout",
          "text": [
            "imuos\n"
          ]
        }
      ]
    },
    {
      "cell_type": "code",
      "source": [
        "def reverse(n):\n",
        "  return n[::-1]\n",
        "reverse(\"soumi\")"
      ],
      "metadata": {
        "colab": {
          "base_uri": "https://localhost:8080/",
          "height": 36
        },
        "id": "iMng0-5y2uLX",
        "outputId": "1331a4af-27bb-4cf9-d696-9e7627ca94d7"
      },
      "execution_count": 16,
      "outputs": [
        {
          "output_type": "execute_result",
          "data": {
            "text/plain": [
              "'imuos'"
            ],
            "application/vnd.google.colaboratory.intrinsic+json": {
              "type": "string"
            }
          },
          "metadata": {},
          "execution_count": 16
        }
      ]
    },
    {
      "cell_type": "code",
      "source": [
        "#print numbers from 1 to 5 using while loop\n",
        "count = 1\n",
        "while count <6:\n",
        "  print(count)\n",
        "  count+=1"
      ],
      "metadata": {
        "colab": {
          "base_uri": "https://localhost:8080/"
        },
        "id": "9wkNtN4w29wC",
        "outputId": "343976bf-c1c0-4230-ad0e-60a507370272"
      },
      "execution_count": 19,
      "outputs": [
        {
          "output_type": "stream",
          "name": "stdout",
          "text": [
            "1\n",
            "2\n",
            "3\n",
            "4\n",
            "5\n"
          ]
        }
      ]
    },
    {
      "cell_type": "code",
      "source": [
        "n=5\n",
        "for i in range(1, n+1):\n",
        "  print(\"*\"*i)"
      ],
      "metadata": {
        "colab": {
          "base_uri": "https://localhost:8080/"
        },
        "id": "d56rPX4W3O5V",
        "outputId": "f4e0f42a-536d-481b-e49d-ec92e81d93b7"
      },
      "execution_count": 21,
      "outputs": [
        {
          "output_type": "stream",
          "name": "stdout",
          "text": [
            "*\n",
            "**\n",
            "***\n",
            "****\n",
            "*****\n"
          ]
        }
      ]
    },
    {
      "cell_type": "code",
      "source": [
        "#code to print inverted triangle\n",
        "n=5\n",
        "for i in range(n,0,-1):\n",
        "  for j in range(1,i+1):\n",
        "    print(\"*\", end = \" \")\n",
        "  print()\n",
        "\n",
        "for i in range(n,0,-1):\n",
        "  print(\"*\" * i,)"
      ],
      "metadata": {
        "colab": {
          "base_uri": "https://localhost:8080/"
        },
        "id": "ZrZz2BXr3oYz",
        "outputId": "88a47418-9b3c-463b-ae4f-b073ae16b697"
      },
      "execution_count": 28,
      "outputs": [
        {
          "output_type": "stream",
          "name": "stdout",
          "text": [
            "* * * * * \n",
            "* * * * \n",
            "* * * \n",
            "* * \n",
            "* \n",
            "*****\n",
            "****\n",
            "***\n",
            "**\n",
            "*\n"
          ]
        }
      ]
    },
    {
      "cell_type": "code",
      "source": [],
      "metadata": {
        "id": "pPHQ_Gl24Fib"
      },
      "execution_count": null,
      "outputs": []
    }
  ]
}